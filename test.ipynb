{
 "cells": [
  {
   "cell_type": "code",
   "execution_count": 2,
   "metadata": {},
   "outputs": [
    {
     "name": "stdout",
     "output_type": "stream",
     "text": [
      "Status Code: 200\n",
      "Response JSON: {'task': 'transcribe', 'language': 'english', 'duration': 9.449999809265137, 'text': 'Hello, this is a test audio file for Whisper API, we are testing its integration into our Next.js project.', 'segments': [{'id': 0, 'seek': 0, 'start': 0.0, 'end': 7.840000152587891, 'text': ' Hello, this is a test audio file for Whisper API, we are testing its integration into our', 'tokens': [50364, 2425, 11, 341, 307, 257, 1500, 6278, 3991, 337, 41132, 610, 9362, 11, 321, 366, 4997, 1080, 10980, 666, 527, 50756], 'temperature': 0.0, 'avg_logprob': -0.40657559037208557, 'compression_ratio': 1.115789532661438, 'no_speech_prob': 0.004509221762418747}, {'id': 1, 'seek': 0, 'start': 7.840000152587891, 'end': 9.399999618530273, 'text': ' Next.js project.', 'tokens': [50756, 3087, 13, 25530, 1716, 13, 50834], 'temperature': 0.0, 'avg_logprob': -0.40657559037208557, 'compression_ratio': 1.115789532661438, 'no_speech_prob': 0.004509221762418747}]}\n"
     ]
    }
   ],
   "source": [
    "import requests\n",
    "import os\n",
    "from dotenv import load_dotenv\n",
    "\n",
    "# 加载 .env.local 文件\n",
    "load_dotenv(\".env.local\")\n",
    "\n",
    "# 从环境变量中读取 API Key\n",
    "api_key = os.getenv(\"OPENAI_API_KEY\")\n",
    "audio_file_path = \"test.mp3\"  # 替换为本地存在的音频文件路径\n",
    "\n",
    "with open(audio_file_path, \"rb\") as f:\n",
    "    files = {\n",
    "        \"file\": (audio_file_path, f, \"audio/mpeg\"),\n",
    "        \"model\": (None, \"whisper-1\"),\n",
    "        \"response_format\": (None, \"verbose_json\"),\n",
    "        \"language\": (None, \"en\"),\n",
    "    }\n",
    "\n",
    "    headers = {\n",
    "        \"Authorization\": f\"Bearer {api_key}\",\n",
    "    }\n",
    "\n",
    "    try:\n",
    "        response = requests.post(\n",
    "            \"https://api.openai.com/v1/audio/transcriptions\",\n",
    "            headers=headers,\n",
    "            files=files,\n",
    "            timeout=30\n",
    "        )\n",
    "        print(\"Status Code:\", response.status_code)\n",
    "        print(\"Response JSON:\", response.json())\n",
    "    except requests.exceptions.RequestException as e:\n",
    "        print(\"❌ Error occurred:\", e)"
   ]
  },
  {
   "cell_type": "code",
   "execution_count": null,
   "metadata": {},
   "outputs": [],
   "source": []
  }
 ],
 "metadata": {
  "kernelspec": {
   "display_name": "Python 3",
   "language": "python",
   "name": "python3"
  },
  "language_info": {
   "codemirror_mode": {
    "name": "ipython",
    "version": 3
   },
   "file_extension": ".py",
   "mimetype": "text/x-python",
   "name": "python",
   "nbconvert_exporter": "python",
   "pygments_lexer": "ipython3",
   "version": "3.9.6"
  }
 },
 "nbformat": 4,
 "nbformat_minor": 2
}
